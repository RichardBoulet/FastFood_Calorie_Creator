{
 "cells": [
  {
   "cell_type": "markdown",
   "metadata": {},
   "source": [
    "# FastFood Menu and Nutrition Scraper Test Notebook"
   ]
  },
  {
   "cell_type": "markdown",
   "metadata": {},
   "source": [
    "## Notebook to iterate tests for scraping .xml sitemap for fast food site in order to gather data to feed to a model for optimizing a meal based on a restaurant and calorie amount entered by the user."
   ]
  },
  {
   "cell_type": "code",
   "execution_count": 1,
   "metadata": {},
   "outputs": [],
   "source": [
    "# import scrapy sitemap components for getting urls from .xml page\n",
    "\n",
    "from scrapy.crawler import CrawlerProcess\n",
    "\n",
    "import scrapy\n",
    "\n",
    "class FoodTest(scrapy.Spider):\n",
    "\tname = 'food'\n",
    "\n",
    "\tstart_urls = ['https://www.fastfoodmenuprices.com/mcdonalds-prices/']\n",
    "\n",
    "\tdef parse(self, response):\n",
    "\n",
    "\t\ttable = response.xpath(\"//table/tbody\")\n",
    "\n",
    "\t\tfor item in table:\n",
    "\t\t\tyield {\n",
    "\t\t\t\t'prices': item.xpath(\".//tr/td[@class='column-3']/input/@value\").getall(),\n",
    "\n",
    "\t\t\t\t'names': item.xpath(\".//tr/td[@class='column-1']\").getall()\n",
    "\t\t\t}"
   ]
  },
  {
   "cell_type": "code",
   "execution_count": 2,
   "metadata": {},
   "outputs": [
    {
     "name": "stderr",
     "output_type": "stream",
     "text": [
      "2020-11-24 15:18:56 [scrapy.utils.log] INFO: Scrapy 2.4.0 started (bot: scrapybot)\n",
      "2020-11-24 15:18:56 [scrapy.utils.log] INFO: Versions: lxml 4.6.1.0, libxml2 2.9.10, cssselect 1.1.0, parsel 1.6.0, w3lib 1.22.0, Twisted 20.3.0, Python 3.8.3 (default, Jul  2 2020, 16:21:59) - [GCC 7.3.0], pyOpenSSL 19.1.0 (OpenSSL 1.1.1h  22 Sep 2020), cryptography 3.2.1, Platform Linux-5.4.0-54-generic-x86_64-with-glibc2.10\n",
      "2020-11-24 15:18:56 [scrapy.utils.log] DEBUG: Using reactor: twisted.internet.epollreactor.EPollReactor\n",
      "2020-11-24 15:18:56 [scrapy.crawler] INFO: Overridden settings:\n",
      "{}\n",
      "2020-11-24 15:18:56 [scrapy.extensions.telnet] INFO: Telnet Password: b14a70c255a5b361\n",
      "2020-11-24 15:18:56 [scrapy.middleware] INFO: Enabled extensions:\n",
      "['scrapy.extensions.corestats.CoreStats',\n",
      " 'scrapy.extensions.telnet.TelnetConsole',\n",
      " 'scrapy.extensions.memusage.MemoryUsage',\n",
      " 'scrapy.extensions.logstats.LogStats']\n",
      "2020-11-24 15:18:56 [scrapy.middleware] INFO: Enabled downloader middlewares:\n",
      "['scrapy.downloadermiddlewares.httpauth.HttpAuthMiddleware',\n",
      " 'scrapy.downloadermiddlewares.downloadtimeout.DownloadTimeoutMiddleware',\n",
      " 'scrapy.downloadermiddlewares.defaultheaders.DefaultHeadersMiddleware',\n",
      " 'scrapy.downloadermiddlewares.useragent.UserAgentMiddleware',\n",
      " 'scrapy.downloadermiddlewares.retry.RetryMiddleware',\n",
      " 'scrapy.downloadermiddlewares.redirect.MetaRefreshMiddleware',\n",
      " 'scrapy.downloadermiddlewares.httpcompression.HttpCompressionMiddleware',\n",
      " 'scrapy.downloadermiddlewares.redirect.RedirectMiddleware',\n",
      " 'scrapy.downloadermiddlewares.cookies.CookiesMiddleware',\n",
      " 'scrapy.downloadermiddlewares.httpproxy.HttpProxyMiddleware',\n",
      " 'scrapy.downloadermiddlewares.stats.DownloaderStats']\n",
      "2020-11-24 15:18:56 [scrapy.middleware] INFO: Enabled spider middlewares:\n",
      "['scrapy.spidermiddlewares.httperror.HttpErrorMiddleware',\n",
      " 'scrapy.spidermiddlewares.offsite.OffsiteMiddleware',\n",
      " 'scrapy.spidermiddlewares.referer.RefererMiddleware',\n",
      " 'scrapy.spidermiddlewares.urllength.UrlLengthMiddleware',\n",
      " 'scrapy.spidermiddlewares.depth.DepthMiddleware']\n",
      "2020-11-24 15:18:56 [scrapy.middleware] INFO: Enabled item pipelines:\n",
      "[]\n",
      "2020-11-24 15:18:56 [scrapy.core.engine] INFO: Spider opened\n",
      "2020-11-24 15:18:56 [scrapy.extensions.logstats] INFO: Crawled 0 pages (at 0 pages/min), scraped 0 items (at 0 items/min)\n",
      "2020-11-24 15:18:56 [scrapy.extensions.telnet] INFO: Telnet console listening on 127.0.0.1:6024\n",
      "2020-11-24 15:18:56 [scrapy.core.engine] DEBUG: Crawled (200) <GET https://www.fastfoodmenuprices.com/mcdonalds-prices/> (referer: None)\n",
      "2020-11-24 15:18:56 [scrapy.core.scraper] DEBUG: Scraped from <200 https://www.fastfoodmenuprices.com/mcdonalds-prices/>\n",
      "{'prices': ['$3.99', '$5.99', '$2.00', '$4.89', '$3.79', '$5.79', '$4.79', '$6.69', '$4.49', '$6.49', '$4.39', '$6.39', '$4.39', '$6.39', '$4.39', '$6.39', '$4.39', '$6.39', '$4.39', '$6.39', '$3.79', '$5.79', '$4.79', '$6.79', '$4.49', '$6.49', '$4.49', '$6.49', '$5.00', '$8.99', '$4.79', '$4.59', '$2.59', '$1.39', '$1.79', '$1.89', '$2.00', '$1.00', '$2.39', '$2.89', '$3.39', '$2.39', '$2.89', '$3.39', '$2.39', '$2.89', '$3.39', '$1.00', '$1.29', '$1.49', '$1.39', '$1.79', '$1.99', '$1.00', '$1.29', '$1.49', '$1.00', '$1.29', '$1.49', '$1.59', '$1.89', '$2.09', '$1.00', '$1.00', '$2.19', '$2.59', '$2.99', '$2.19', '$2.59', '$2.99', '$1.29', '$1.00', '$1.79', '$2.39', '$1.00', '$0.99', '$0.39', '$0.99', '$3.29', '$2.49', '$2.79', '$2.79', '$3.99', '$2.79', '$3.99', '$2.99', '$4.19', '$3.19', '$4.39', '$2.79', '$3.99', '$2.89', '$4.89', '$3.29', '$4.49', '$3.29', '$4.49', '$2.79', '$4.49', '$3.29', '$4.99', '$3.99', '$5.19', '$2.39', '$2.99', '$4.29', '$5.49', '$3.69', '$2.99', '$3.19', '$2.49', '$1.99', '$1.00', '$2.00'], 'names': ['<td colspan=\"3\" class=\"column-1\">\\n<h2>Burgers</h2>\\n<h3>Meals Include Medium French Fries or Salad &amp; Soft Drink</h3>\\n<p><span id=\"Burgers\"></span></p></td>', '<td class=\"column-1\">Big Mac</td>', '<td class=\"column-1\">Big Mac – Meal</td>', '<td class=\"column-1\">2 Cheeseburgers</td>', '<td class=\"column-1\">2 Cheeseburgers – Meal</td>', '<td class=\"column-1\">Quarter Pounder with Cheese</td>', '<td class=\"column-1\">Quarter Pounder with Cheese – Meal</td>', '<td class=\"column-1\">Double Quarter Pounder with Cheese</td>', '<td class=\"column-1\">Double Quarter Pounder with Cheese – Meal</td>', '<td class=\"column-1\">Bacon Clubhouse Burger</td>', '<td colspan=\"3\" class=\"column-1\"><span id=\"Chicken-Sandwiches\"></span>\\n<h2>Chicken &amp; Sandwiches</h2>\\n<h3>Meals Include Medium French Fries or Salad &amp; Soft Drink</h3>\\n</td>', '<td class=\"column-1\">Bacon Clubhouse Burger – Meal</td>', '<td class=\"column-1\">Buttermilk Crispy Chicken</td>', '<td class=\"column-1\">Buttermilk Crispy Chicken – Meal</td>', '<td class=\"column-1\">Artisan Grilled Chicken</td>', '<td class=\"column-1\">Artisan Grilled Chicken – Meal</td>', '<td class=\"column-1\">Premium McWrap Chicken &amp; Bacon (Grilled or Crispy)</td>', '<td colspan=\"2\" class=\"column-1\">Premium McWrap Chicken &amp; Bacon (Grilled or Crispy) – Meal</td>', '<td class=\"column-1\">Premium McWrap Chicken &amp; Ranch (Grilled or Crispy)</td>', '<td colspan=\"2\" class=\"column-1\">Premium McWrap Chicken &amp; Ranch (Grilled or Crispy) – Meal</td>', '<td class=\"column-1\">Premium McWrap Sweet Chili Chicken (Grilled or Crispy)</td>', '<td colspan=\"2\" class=\"column-1\">Premium McWrap Sweet Chili Chicken (Grilled or Crispy) – Meal</td>', '<td class=\"column-1\">Filet-O-Fish</td>', '<td class=\"column-1\">Filet-O-Fish – Meal</td>', '<td class=\"column-1\">Double Filet-O-Fish</td>', '<td class=\"column-1\">Double Filet-O-Fish – Meal</td>', '<td class=\"column-1\">Premium Chicken Bacon Clubhouse (Grilled or Crispy)</td>', '<td colspan=\"2\" class=\"column-1\">Premium Chicken Bacon Clubhouse (Grilled or Crispy) – Meal</td>', '<td colspan=\"3\" class=\"column-1\"><span id=\"Nuggets\"></span>\\n<h2>Nuggets</h2>\\n<h3>Meals Include Medium French Fries or Salad &amp; Soft Drink</h3>\\n</td>', '<td class=\"column-1\">Chicken McNuggets (Regular or Spicy)</td>', '<td class=\"column-1\">Chicken McNuggets – Meal (Regular or Spicy)</td>', '<td class=\"column-1\">Chicken McNuggets (Regular or Spicy)</td>', '<td class=\"column-1\">Chicken McNuggets (Regular or Spicy)</td>', '<td colspan=\"3\" class=\"column-1\"><span id=\"Salads\"></span>\\n<h2>Salads</h2>\\n<h3>Grilled or Crispy Chicken</h3>\\n</td>', '<td class=\"column-1\">Southwest Salad</td>', '<td class=\"column-1\">Bacon Ranch Salad</td>', '<td colspan=\"3\" class=\"column-1\"><span id=\"Snacks\"></span>\\n<h2>Snacks &amp; Sides</h2>\\n</td>', '<td class=\"column-1\">Donut Sticks </td>', '<td class=\"column-1\">French Fries</td>', '<td class=\"column-1\">French Fries</td>', '<td class=\"column-1\">French Fries</td>', '<td class=\"column-1\">Minute Maid Slushie (Blue Rapsberry, Fruit Punch, Pink Lemonade)</td>', '<td class=\"column-1\">Apple Slices</td>', '<td colspan=\"3\" class=\"column-1\"><span id=\"McCafe-Drinks\"></span>\\n<h2>McCafe Drinks</h2>\\n</td>', '<td class=\"column-1\">Smoothie (Mango Pineapple, Strawberry Banana, or Blueberry Pomegranate)</td>', '<td class=\"column-1\">Smoothie (Mango Pineapple, Strawberry Banana, or Blueberry Pomegranate)</td>', '<td class=\"column-1\">Smoothie (Mango Pineapple, Strawberry Banana, or Blueberry Pomegranate)</td>', '<td class=\"column-1\">Frappe (Mocha, Caramel, or Chocolate Chip)</td>', '<td class=\"column-1\">Frappe (Mocha, Caramel, or Chocolate Chip)</td>', '<td class=\"column-1\">Frappe (Mocha, Caramel, or Chocolate Chip)</td>', '<td class=\"column-1\">Espresso &amp; Chocolate (Mocha, Caramel Mocha, Iced Mocha, Iced Caramel Mocha, Latte, Hot Chocolate, White Chocolate Mocha or White Hot Chocolate)</td>', '<td class=\"column-1\">Espresso &amp; Chocolate (Mocha, Caramel Mocha, Iced Mocha, Iced Caramel Mocha, Latte, Hot Chocolate, White Chocolate Mocha or White Hot Chocolate) </td>', '<td class=\"column-1\">Espresso &amp; Chocolate (Mocha, Caramel Mocha, Iced Mocha, Iced Caramel Mocha, Latte, Hot Chocolate, White Chocolate Mocha or White Hot Chocolate)</td>', '<td class=\"column-1\">Premium Roast Coffee</td>', '<td class=\"column-1\">Premium Roast Coffee</td>', '<td class=\"column-1\">Premium Roast Coffee</td>', '<td class=\"column-1\">Iced Coffee</td>', '<td class=\"column-1\">Iced Coffee</td>', '<td class=\"column-1\">Iced Coffee</td>', '<td class=\"column-1\">Sweet Tea</td>', '<td class=\"column-1\">Sweet Tea</td>', '<td class=\"column-1\">Sweet Tea</td>', '<td class=\"column-1\">Soft Drink</td>', '<td class=\"column-1\">Soft Drink</td>', '<td class=\"column-1\">Soft Drink</td>', '<td class=\"column-1\">Orange Juice</td>', '<td class=\"column-1\">Orange Juice</td>', '<td class=\"column-1\">Orange Juice</td>', '<td class=\"column-1\">Milk</td>', '<td class=\"column-1\">Dasani Water</td>', '<td colspan=\"3\" class=\"column-1\"><span id=\"Desserts\"></span>\\n<h2>Desserts &amp; Shakes</h2>\\n</td>', '<td class=\"column-1\">Shake (Chocolate, Vanilla, or Strawberry)</td>', '<td class=\"column-1\">Shake (Chocolate, Vanilla, or Strawberry)</td>', '<td class=\"column-1\">Shake (Chocolate, Vanilla, or Strawberry)</td>', '<td class=\"column-1\">Shamrock Shake (Limited Time)</td>', '<td class=\"column-1\">Shamrock Shake (Limited Time)</td>', '<td class=\"column-1\">Shamrock Shake (Limited Time)</td>', '<td class=\"column-1\">Sundae (Hot Fudge or Caramel)</td>', '<td class=\"column-1\">Cone (Vanilla)</td>', '<td class=\"column-1\">McFlurry</td>', '<td class=\"column-1\">McFlurry</td>', '<td colspan=\"3\" class=\"column-1\"><span id=\"McCafe-Bakery\"></span>\\n<h2>McCafe Bakery</h2>\\n</td>', '<td class=\"column-1\">Soft Baked Chocolate Chip Cookie</td>', '<td class=\"column-1\">Strawberry &amp; Creme Pie (Limited Time)</td>', '<td class=\"column-1\">Soft Baked Chocolate Chip Cookie</td>', '<td class=\"column-1\">Apple Pie</td>', '<td colspan=\"3\" class=\"column-1\"><span id=\"Happy-Meals\"></span>\\n<h2>Happy Meals</h2>\\n<h3>Includes Kids French Fries, Side &amp; Drink</h3>\\n</td>', '<td class=\"column-1\">Chicken McNuggets</td>', '<td class=\"column-1\">Hamburger</td>', '<td class=\"column-1\">Cheeseburger</td>', '<td colspan=\"3\" class=\"column-1\"><span id=\"Breakfast\"></span>\\n<h2>McDonald’s Breakfast Menu</h2>\\n<h3>Meals Include Hash Browns and Small Coffee</h3>\\n</td>', '<td class=\"column-1\">Egg White Delight McMuffin</td>', '<td class=\"column-1\">Egg White Delight McMuffin – Meal</td>', '<td class=\"column-1\">Egg McMuffin</td>', '<td class=\"column-1\">Egg McMuffin – Meal</td>', '<td class=\"column-1\">Sausage McMuffin with Egg</td>', '<td class=\"column-1\">Sausage McMuffin with Egg – Meal</td>', '<td class=\"column-1\">Bacon, Egg &amp; Cheese Biscuit</td>', '<td class=\"column-1\">Bacon, Egg &amp; Cheese Biscuit – Meal</td>', '<td class=\"column-1\">Sausage Biscuit with Egg</td>', '<td class=\"column-1\">Sausage Biscuit with Egg – Meal</td>', '<td class=\"column-1\">Sausage Gravy &amp; Biscuit</td>', '<td class=\"column-1\">Sausage Gravy &amp; Biscuit – Meal</td>', '<td class=\"column-1\">Bacon, Egg &amp; Cheese McGriddles</td>', '<td class=\"column-1\">Bacon, Egg &amp; Cheese McGriddles – Meal</td>', '<td class=\"column-1\">Sausage, Egg &amp; Cheese McGriddles</td>', '<td class=\"column-1\">Sausage, Egg &amp; Cheese McGriddles – Meal</td>', '<td class=\"column-1\">Sausage McGriddles</td>', '<td class=\"column-1\">Sausage McGriddles – Meal</td>', '<td class=\"column-1\">Bacon, Egg &amp; Cheese Bagel</td>', '<td class=\"column-1\">Bacon, Egg &amp; Cheese Bagel – Meal</td>', '<td class=\"column-1\">Steak, Egg &amp; Cheese Bagel</td>', '<td class=\"column-1\">Steak, Egg &amp; Cheese Bagel – Meal</td>', '<td class=\"column-1\">2 Sausage Burritos</td>', '<td class=\"column-1\">Hot ‘N Spicy McChicken Biscuit</td>', '<td class=\"column-1\">2 Sausage Burritos – Meal</td>', '<td colspan=\"3\" class=\"column-1\"><span id=\"Morning-Platters\"></span>\\n<h2>Morning Platters</h2>\\n</td>', '<td class=\"column-1\">Big Breakfast with Hot Cakes</td>', '<td class=\"column-1\">Big Breakfast</td>', '<td class=\"column-1\">Sausage Gravy &amp; Biscuit</td>', '<td class=\"column-1\">3 Hot Cakes with Sausage</td>', '<td class=\"column-1\">3 Hot Cakes</td>', '<td colspan=\"3\" class=\"column-1\"><span id=\"Oatmeal\"></span>\\n<h2>Oatmeal</h2>\\n</td>', '<td class=\"column-1\">Fruit &amp; Maple Oatmeal</td>', '<td colspan=\"3\" class=\"column-1\"><span id=\"1-2-3-Menu\"></span>\\n<h2>$1 $2 $3 Menu</h2>\\n</td>', '<td class=\"column-1\">Soft Drink</td>', '<td class=\"column-1\">Specialty McCafé® beverages</td>', '<td colspan=\"3\" class=\"column-1\"><span id=\"Sauces\"></span>\\n<h2>Sauces and Dressings\\n<h2></h2></h2></td>', '<td class=\"column-1\">Mighty Hot Sauce</td>', '<td class=\"column-1\">Sweet ‘N Sour</td>', '<td class=\"column-1\">Hot Mustard</td>', '<td class=\"column-1\">Creamy Ranch</td>', '<td class=\"column-1\">Mustard</td>', '<td class=\"column-1\">Tangy Honey Mustard</td>', '<td class=\"column-1\">Spicy Buffalo</td>', '<td class=\"column-1\">Hot Picante Salsa</td>', '<td class=\"column-1\">Mild Picante Salsa</td>', '<td class=\"column-1\">Ranch</td>', '<td class=\"column-1\">Low-Fat Balsamic Viniagrette</td>', '<td class=\"column-1\">Southwest</td>']}\n",
      "2020-11-24 15:18:56 [scrapy.core.engine] INFO: Closing spider (finished)\n",
      "2020-11-24 15:18:56 [scrapy.statscollectors] INFO: Dumping Scrapy stats:\n",
      "{'downloader/request_bytes': 243,\n",
      " 'downloader/request_count': 1,\n",
      " 'downloader/request_method_count/GET': 1,\n",
      " 'downloader/response_bytes': 83413,\n",
      " 'downloader/response_count': 1,\n",
      " 'downloader/response_status_count/200': 1,\n",
      " 'elapsed_time_seconds': 0.237283,\n",
      " 'finish_reason': 'finished',\n",
      " 'finish_time': datetime.datetime(2020, 11, 24, 20, 18, 56, 933893),\n",
      " 'item_scraped_count': 1,\n",
      " 'log_count/DEBUG': 2,\n",
      " 'log_count/INFO': 10,\n",
      " 'memusage/max': 78176256,\n",
      " 'memusage/startup': 78176256,\n",
      " 'response_received_count': 1,\n",
      " 'scheduler/dequeued': 1,\n",
      " 'scheduler/dequeued/memory': 1,\n",
      " 'scheduler/enqueued': 1,\n",
      " 'scheduler/enqueued/memory': 1,\n",
      " 'start_time': datetime.datetime(2020, 11, 24, 20, 18, 56, 696610)}\n",
      "2020-11-24 15:18:56 [scrapy.core.engine] INFO: Spider closed (finished)\n"
     ]
    }
   ],
   "source": [
    "process = CrawlerProcess()\n",
    "process.crawl(FoodTest)\n",
    "process.start()\n"
   ]
  },
  {
   "cell_type": "code",
   "execution_count": null,
   "metadata": {},
   "outputs": [],
   "source": []
  }
 ],
 "metadata": {
  "kernelspec": {
   "display_name": "fastfood",
   "language": "python",
   "name": "fastfood"
  },
  "language_info": {
   "codemirror_mode": {
    "name": "ipython",
    "version": 3
   },
   "file_extension": ".py",
   "mimetype": "text/x-python",
   "name": "python",
   "nbconvert_exporter": "python",
   "pygments_lexer": "ipython3",
   "version": "3.8.3"
  }
 },
 "nbformat": 4,
 "nbformat_minor": 4
}
