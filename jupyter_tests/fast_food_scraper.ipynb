{
 "cells": [
  {
   "cell_type": "markdown",
   "metadata": {},
   "source": [
    "# FastFood Menu and Nutrition Scraper Test Notebook"
   ]
  },
  {
   "cell_type": "markdown",
   "metadata": {},
   "source": [
    "## Notebook to iterate tests for scraping .xml sitemap for fast food site in order to gather data to feed to a model for optimizing a meal based on a restaurant and calorie amount entered by the user."
   ]
  },
  {
   "cell_type": "code",
   "execution_count": 1,
   "metadata": {},
   "outputs": [],
   "source": [
    "# import scrapy sitemap components for getting urls from .xml page\n",
    "\n",
    "from scrapy.spiders import SitemapSpider\n",
    "\n",
    "class FoodSpider(SitemapSpider):\n",
    "    name = 'food_spider'\n",
    "    \n",
    "    sitemap_urls = ['https://www.fastfoodmenuprices.com/category-sitemap.xml']\n",
    "    \n",
    "    def parse(self, response):\n",
    "        yield {\n",
    "            'title': response.css(\"title ::text\").extract_first(),\n",
    "            'url': response.url\n",
    "        }"
   ]
  },
  {
   "cell_type": "code",
   "execution_count": 2,
   "metadata": {
    "collapsed": true,
    "jupyter": {
     "outputs_hidden": true
    }
   },
   "outputs": [
    {
     "name": "stderr",
     "output_type": "stream",
     "text": [
      "2020-11-22 16:23:12 [scrapy.utils.log] INFO: Scrapy 2.4.0 started (bot: scrapybot)\n",
      "2020-11-22 16:23:12 [scrapy.utils.log] INFO: Versions: lxml 4.6.1.0, libxml2 2.9.10, cssselect 1.1.0, parsel 1.6.0, w3lib 1.22.0, Twisted 20.3.0, Python 3.8.3 (default, Jul  2 2020, 16:21:59) - [GCC 7.3.0], pyOpenSSL 19.1.0 (OpenSSL 1.1.1h  22 Sep 2020), cryptography 3.2.1, Platform Linux-5.4.0-54-generic-x86_64-with-glibc2.10\n",
      "2020-11-22 16:23:12 [scrapy.utils.log] DEBUG: Using reactor: twisted.internet.epollreactor.EPollReactor\n",
      "2020-11-22 16:23:12 [scrapy.crawler] INFO: Overridden settings:\n",
      "{}\n",
      "2020-11-22 16:23:12 [scrapy.extensions.telnet] INFO: Telnet Password: 2fed4aa0b532631e\n",
      "2020-11-22 16:23:12 [scrapy.middleware] INFO: Enabled extensions:\n",
      "['scrapy.extensions.corestats.CoreStats',\n",
      " 'scrapy.extensions.telnet.TelnetConsole',\n",
      " 'scrapy.extensions.memusage.MemoryUsage',\n",
      " 'scrapy.extensions.logstats.LogStats']\n",
      "2020-11-22 16:23:12 [scrapy.middleware] INFO: Enabled downloader middlewares:\n",
      "['scrapy.downloadermiddlewares.httpauth.HttpAuthMiddleware',\n",
      " 'scrapy.downloadermiddlewares.downloadtimeout.DownloadTimeoutMiddleware',\n",
      " 'scrapy.downloadermiddlewares.defaultheaders.DefaultHeadersMiddleware',\n",
      " 'scrapy.downloadermiddlewares.useragent.UserAgentMiddleware',\n",
      " 'scrapy.downloadermiddlewares.retry.RetryMiddleware',\n",
      " 'scrapy.downloadermiddlewares.redirect.MetaRefreshMiddleware',\n",
      " 'scrapy.downloadermiddlewares.httpcompression.HttpCompressionMiddleware',\n",
      " 'scrapy.downloadermiddlewares.redirect.RedirectMiddleware',\n",
      " 'scrapy.downloadermiddlewares.cookies.CookiesMiddleware',\n",
      " 'scrapy.downloadermiddlewares.httpproxy.HttpProxyMiddleware',\n",
      " 'scrapy.downloadermiddlewares.stats.DownloaderStats']\n",
      "2020-11-22 16:23:12 [scrapy.middleware] INFO: Enabled spider middlewares:\n",
      "['scrapy.spidermiddlewares.httperror.HttpErrorMiddleware',\n",
      " 'scrapy.spidermiddlewares.offsite.OffsiteMiddleware',\n",
      " 'scrapy.spidermiddlewares.referer.RefererMiddleware',\n",
      " 'scrapy.spidermiddlewares.urllength.UrlLengthMiddleware',\n",
      " 'scrapy.spidermiddlewares.depth.DepthMiddleware']\n",
      "2020-11-22 16:23:12 [scrapy.middleware] INFO: Enabled item pipelines:\n",
      "[]\n",
      "2020-11-22 16:23:12 [scrapy.core.engine] INFO: Spider opened\n",
      "2020-11-22 16:23:12 [scrapy.extensions.logstats] INFO: Crawled 0 pages (at 0 pages/min), scraped 0 items (at 0 items/min)\n",
      "2020-11-22 16:23:12 [scrapy.extensions.telnet] INFO: Telnet console listening on 127.0.0.1:6023\n",
      "2020-11-22 16:23:13 [scrapy.core.engine] DEBUG: Crawled (200) <GET https://www.fastfoodmenuprices.com/category-sitemap.xml> (referer: None)\n",
      "2020-11-22 16:23:13 [scrapy.core.engine] DEBUG: Crawled (200) <GET https://www.fastfoodmenuprices.com/uncategorized/> (referer: https://www.fastfoodmenuprices.com/category-sitemap.xml)\n",
      "2020-11-22 16:23:13 [scrapy.core.engine] DEBUG: Crawled (200) <GET https://www.fastfoodmenuprices.com/fast-food-info/> (referer: https://www.fastfoodmenuprices.com/category-sitemap.xml)\n",
      "2020-11-22 16:23:13 [scrapy.core.engine] DEBUG: Crawled (200) <GET https://www.fastfoodmenuprices.com/healthy-fast-food/> (referer: https://www.fastfoodmenuprices.com/category-sitemap.xml)\n",
      "2020-11-22 16:23:13 [scrapy.core.engine] DEBUG: Crawled (200) <GET https://www.fastfoodmenuprices.com/fast-food-nutrition-2/> (referer: https://www.fastfoodmenuprices.com/category-sitemap.xml)\n",
      "2020-11-22 16:23:13 [scrapy.core.engine] DEBUG: Crawled (200) <GET https://www.fastfoodmenuprices.com/recipes/> (referer: https://www.fastfoodmenuprices.com/category-sitemap.xml)\n",
      "2020-11-22 16:23:13 [scrapy.core.engine] DEBUG: Crawled (200) <GET https://www.fastfoodmenuprices.com/fast-food-history/> (referer: https://www.fastfoodmenuprices.com/category-sitemap.xml)\n",
      "2020-11-22 16:23:13 [scrapy.core.engine] DEBUG: Crawled (200) <GET https://www.fastfoodmenuprices.com/reviews/> (referer: https://www.fastfoodmenuprices.com/category-sitemap.xml)\n",
      "2020-11-22 16:23:13 [scrapy.core.engine] DEBUG: Crawled (200) <GET https://www.fastfoodmenuprices.com/fast-food-tips/> (referer: https://www.fastfoodmenuprices.com/category-sitemap.xml)\n",
      "2020-11-22 16:23:13 [scrapy.core.engine] DEBUG: Crawled (200) <GET https://www.fastfoodmenuprices.com/fast-food-prices/> (referer: https://www.fastfoodmenuprices.com/category-sitemap.xml)\n",
      "2020-11-22 16:23:13 [scrapy.core.engine] DEBUG: Crawled (200) <GET https://www.fastfoodmenuprices.com/news/> (referer: https://www.fastfoodmenuprices.com/category-sitemap.xml)\n",
      "2020-11-22 16:23:13 [scrapy.core.engine] DEBUG: Crawled (200) <GET https://www.fastfoodmenuprices.com/deals/> (referer: https://www.fastfoodmenuprices.com/category-sitemap.xml)\n",
      "2020-11-22 16:23:13 [scrapy.core.engine] DEBUG: Crawled (200) <GET https://www.fastfoodmenuprices.com/fast-food-chicken/> (referer: https://www.fastfoodmenuprices.com/category-sitemap.xml)\n",
      "2020-11-22 16:23:13 [scrapy.core.engine] DEBUG: Crawled (200) <GET https://www.fastfoodmenuprices.com/fast-food-comparison/> (referer: https://www.fastfoodmenuprices.com/category-sitemap.xml)\n",
      "2020-11-22 16:23:13 [scrapy.core.engine] DEBUG: Crawled (200) <GET https://www.fastfoodmenuprices.com/articles/> (referer: https://www.fastfoodmenuprices.com/category-sitemap.xml)\n",
      "2020-11-22 16:23:13 [scrapy.core.scraper] DEBUG: Scraped from <200 https://www.fastfoodmenuprices.com/uncategorized/>\n",
      "{'title': 'Uncategorized Archives - Fast Food Menu Prices', 'url': 'https://www.fastfoodmenuprices.com/uncategorized/'}\n",
      "2020-11-22 16:23:13 [scrapy.core.scraper] DEBUG: Scraped from <200 https://www.fastfoodmenuprices.com/fast-food-info/>\n",
      "{'title': 'Fast Food Info Archives - Fast Food Menu Prices', 'url': 'https://www.fastfoodmenuprices.com/fast-food-info/'}\n",
      "2020-11-22 16:23:13 [scrapy.core.scraper] DEBUG: Scraped from <200 https://www.fastfoodmenuprices.com/healthy-fast-food/>\n",
      "{'title': 'Healthy Fast Food Archives - Fast Food Menu Prices', 'url': 'https://www.fastfoodmenuprices.com/healthy-fast-food/'}\n",
      "2020-11-22 16:23:13 [scrapy.core.scraper] DEBUG: Scraped from <200 https://www.fastfoodmenuprices.com/fast-food-nutrition-2/>\n",
      "{'title': 'Fast Food Nutrition Archives - Fast Food Menu Prices', 'url': 'https://www.fastfoodmenuprices.com/fast-food-nutrition-2/'}\n",
      "2020-11-22 16:23:13 [scrapy.core.scraper] DEBUG: Scraped from <200 https://www.fastfoodmenuprices.com/recipes/>\n",
      "{'title': 'Recipes Archives - Fast Food Menu Prices', 'url': 'https://www.fastfoodmenuprices.com/recipes/'}\n",
      "2020-11-22 16:23:13 [scrapy.core.scraper] DEBUG: Scraped from <200 https://www.fastfoodmenuprices.com/fast-food-history/>\n",
      "{'title': 'Fast Food History Archives - Fast Food Menu Prices', 'url': 'https://www.fastfoodmenuprices.com/fast-food-history/'}\n",
      "2020-11-22 16:23:13 [scrapy.core.scraper] DEBUG: Scraped from <200 https://www.fastfoodmenuprices.com/reviews/>\n",
      "{'title': 'Fast Food Reviews - Reviews on your Favorite Fast Food Menu Items', 'url': 'https://www.fastfoodmenuprices.com/reviews/'}\n",
      "2020-11-22 16:23:13 [scrapy.core.scraper] DEBUG: Scraped from <200 https://www.fastfoodmenuprices.com/fast-food-tips/>\n",
      "{'title': 'Fast Food Tips Archives - Fast Food Menu Prices', 'url': 'https://www.fastfoodmenuprices.com/fast-food-tips/'}\n",
      "2020-11-22 16:23:13 [scrapy.core.scraper] DEBUG: Scraped from <200 https://www.fastfoodmenuprices.com/fast-food-prices/>\n",
      "{'title': 'Fast Food Prices Archives - Fast Food Menu Prices', 'url': 'https://www.fastfoodmenuprices.com/fast-food-prices/'}\n",
      "2020-11-22 16:23:13 [scrapy.core.scraper] DEBUG: Scraped from <200 https://www.fastfoodmenuprices.com/news/>\n",
      "{'title': 'Fast Food News - Daily Updates on Your Favorite Fast Food Restaurants', 'url': 'https://www.fastfoodmenuprices.com/news/'}\n",
      "2020-11-22 16:23:13 [scrapy.core.scraper] DEBUG: Scraped from <200 https://www.fastfoodmenuprices.com/deals/>\n",
      "{'title': 'Fast Food Deals - Deals & Discounts on the Best Fast Food Items', 'url': 'https://www.fastfoodmenuprices.com/deals/'}\n",
      "2020-11-22 16:23:13 [scrapy.core.scraper] DEBUG: Scraped from <200 https://www.fastfoodmenuprices.com/fast-food-chicken/>\n",
      "{'title': 'Fast Food Chicken Archives - Fast Food Menu Prices', 'url': 'https://www.fastfoodmenuprices.com/fast-food-chicken/'}\n",
      "2020-11-22 16:23:13 [scrapy.core.scraper] DEBUG: Scraped from <200 https://www.fastfoodmenuprices.com/fast-food-comparison/>\n",
      "{'title': 'Fast Food Comparison Archives - Fast Food Menu Prices', 'url': 'https://www.fastfoodmenuprices.com/fast-food-comparison/'}\n",
      "2020-11-22 16:23:13 [scrapy.core.scraper] DEBUG: Scraped from <200 https://www.fastfoodmenuprices.com/articles/>\n",
      "{'title': 'Articles Archives - Fast Food Menu Prices', 'url': 'https://www.fastfoodmenuprices.com/articles/'}\n",
      "2020-11-22 16:23:13 [scrapy.core.engine] INFO: Closing spider (finished)\n",
      "2020-11-22 16:23:13 [scrapy.statscollectors] INFO: Dumping Scrapy stats:\n",
      "{'downloader/request_bytes': 4528,\n",
      " 'downloader/request_count': 15,\n",
      " 'downloader/request_method_count/GET': 15,\n",
      " 'downloader/response_bytes': 295275,\n",
      " 'downloader/response_count': 15,\n",
      " 'downloader/response_status_count/200': 15,\n",
      " 'elapsed_time_seconds': 0.633604,\n",
      " 'finish_reason': 'finished',\n",
      " 'finish_time': datetime.datetime(2020, 11, 22, 21, 23, 13, 499823),\n",
      " 'item_scraped_count': 14,\n",
      " 'log_count/DEBUG': 29,\n",
      " 'log_count/INFO': 10,\n",
      " 'memusage/max': 77942784,\n",
      " 'memusage/startup': 77942784,\n",
      " 'request_depth_max': 1,\n",
      " 'response_received_count': 15,\n",
      " 'scheduler/dequeued': 15,\n",
      " 'scheduler/dequeued/memory': 15,\n",
      " 'scheduler/enqueued': 15,\n",
      " 'scheduler/enqueued/memory': 15,\n",
      " 'start_time': datetime.datetime(2020, 11, 22, 21, 23, 12, 866219)}\n",
      "2020-11-22 16:23:13 [scrapy.core.engine] INFO: Spider closed (finished)\n"
     ]
    }
   ],
   "source": [
    "from scrapy.crawler import CrawlerProcess\n",
    "\n",
    "process = CrawlerProcess()\n",
    "process.crawl(FoodSpider)\n",
    "process.start()"
   ]
  },
  {
   "cell_type": "code",
   "execution_count": null,
   "metadata": {},
   "outputs": [],
   "source": []
  }
 ],
 "metadata": {
  "kernelspec": {
   "display_name": "fastfood",
   "language": "python",
   "name": "fastfood"
  },
  "language_info": {
   "codemirror_mode": {
    "name": "ipython",
    "version": 3
   },
   "file_extension": ".py",
   "mimetype": "text/x-python",
   "name": "python",
   "nbconvert_exporter": "python",
   "pygments_lexer": "ipython3",
   "version": "3.8.3"
  }
 },
 "nbformat": 4,
 "nbformat_minor": 4
}
