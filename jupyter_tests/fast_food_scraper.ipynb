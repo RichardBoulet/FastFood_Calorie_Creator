{
 "cells": [
  {
   "cell_type": "markdown",
   "metadata": {},
   "source": [
    "# FastFood Menu and Nutrition Scraper Test Notebook"
   ]
  },
  {
   "cell_type": "markdown",
   "metadata": {},
   "source": [
    "## Notebook to test model for optimizing a meal based on a restaurant, price and calorie amounts entered by the user."
   ]
  },
  {
   "cell_type": "code",
   "execution_count": 18,
   "metadata": {},
   "outputs": [],
   "source": [
    "import pandas as pd\n",
    "import json"
   ]
  },
  {
   "cell_type": "code",
   "execution_count": 36,
   "metadata": {},
   "outputs": [],
   "source": [
    "# json paths\n",
    "\n",
    "nutrition_json = 'nutrition_data_11_25_20.json'\n",
    "price_json = 'price_data_11_24_20.json'"
   ]
  },
  {
   "cell_type": "code",
   "execution_count": 46,
   "metadata": {},
   "outputs": [],
   "source": [
    "nutrition = pd.read_json(nutrition_json, orient='split')"
   ]
  },
  {
   "cell_type": "code",
   "execution_count": 55,
   "metadata": {},
   "outputs": [
    {
     "data": {
      "text/html": [
       "<div>\n",
       "<style scoped>\n",
       "    .dataframe tbody tr th:only-of-type {\n",
       "        vertical-align: middle;\n",
       "    }\n",
       "\n",
       "    .dataframe tbody tr th {\n",
       "        vertical-align: top;\n",
       "    }\n",
       "\n",
       "    .dataframe thead th {\n",
       "        text-align: right;\n",
       "    }\n",
       "</style>\n",
       "<table border=\"1\" class=\"dataframe\">\n",
       "  <thead>\n",
       "    <tr style=\"text-align: right;\">\n",
       "      <th></th>\n",
       "      <th>restaurant</th>\n",
       "      <th>category</th>\n",
       "      <th>name</th>\n",
       "      <th>size</th>\n",
       "      <th>calories</th>\n",
       "    </tr>\n",
       "  </thead>\n",
       "  <tbody>\n",
       "    <tr>\n",
       "      <th>0</th>\n",
       "      <td>Tim Horton’s Nutrition</td>\n",
       "      <td></td>\n",
       "      <td></td>\n",
       "      <td></td>\n",
       "      <td>NaN</td>\n",
       "    </tr>\n",
       "    <tr>\n",
       "      <th>1</th>\n",
       "      <td>Tim Horton’s Nutrition</td>\n",
       "      <td></td>\n",
       "      <td>Sandwiches, Panini, Wraps</td>\n",
       "      <td></td>\n",
       "      <td>NaN</td>\n",
       "    </tr>\n",
       "    <tr>\n",
       "      <th>2</th>\n",
       "      <td>Tim Horton’s Nutrition</td>\n",
       "      <td></td>\n",
       "      <td>BLT Sandwich</td>\n",
       "      <td></td>\n",
       "      <td>360.0</td>\n",
       "    </tr>\n",
       "    <tr>\n",
       "      <th>3</th>\n",
       "      <td>Tim Horton’s Nutrition</td>\n",
       "      <td></td>\n",
       "      <td>Chicken Salad Sandwich</td>\n",
       "      <td></td>\n",
       "      <td>330.0</td>\n",
       "    </tr>\n",
       "    <tr>\n",
       "      <th>4</th>\n",
       "      <td>Tim Horton’s Nutrition</td>\n",
       "      <td></td>\n",
       "      <td>Ham &amp; Swiss Sandwich</td>\n",
       "      <td></td>\n",
       "      <td>370.0</td>\n",
       "    </tr>\n",
       "    <tr>\n",
       "      <th>...</th>\n",
       "      <td>...</td>\n",
       "      <td>...</td>\n",
       "      <td>...</td>\n",
       "      <td>...</td>\n",
       "      <td>...</td>\n",
       "    </tr>\n",
       "    <tr>\n",
       "      <th>16479</th>\n",
       "      <td>Cookout Nutrition</td>\n",
       "      <td></td>\n",
       "      <td>Sprite, Large</td>\n",
       "      <td></td>\n",
       "      <td>220.0</td>\n",
       "    </tr>\n",
       "    <tr>\n",
       "      <th>16480</th>\n",
       "      <td>Cookout Nutrition</td>\n",
       "      <td></td>\n",
       "      <td>Sprite, Regular</td>\n",
       "      <td></td>\n",
       "      <td>140.0</td>\n",
       "    </tr>\n",
       "    <tr>\n",
       "      <th>16481</th>\n",
       "      <td>Cookout Nutrition</td>\n",
       "      <td></td>\n",
       "      <td>Side of Chili</td>\n",
       "      <td></td>\n",
       "      <td>160.0</td>\n",
       "    </tr>\n",
       "    <tr>\n",
       "      <th>16482</th>\n",
       "      <td>Cookout Nutrition</td>\n",
       "      <td></td>\n",
       "      <td>Walnut Milkshake</td>\n",
       "      <td></td>\n",
       "      <td>850.0</td>\n",
       "    </tr>\n",
       "    <tr>\n",
       "      <th>16483</th>\n",
       "      <td>Cookout Nutrition</td>\n",
       "      <td></td>\n",
       "      <td>Reg BBQ Sandwich</td>\n",
       "      <td></td>\n",
       "      <td>370.0</td>\n",
       "    </tr>\n",
       "  </tbody>\n",
       "</table>\n",
       "<p>16484 rows × 5 columns</p>\n",
       "</div>"
      ],
      "text/plain": [
       "                   restaurant category                       name size  \\\n",
       "0      Tim Horton’s Nutrition                                            \n",
       "1      Tim Horton’s Nutrition           Sandwiches, Panini, Wraps        \n",
       "2      Tim Horton’s Nutrition                        BLT Sandwich        \n",
       "3      Tim Horton’s Nutrition              Chicken Salad Sandwich        \n",
       "4      Tim Horton’s Nutrition                Ham & Swiss Sandwich        \n",
       "...                       ...      ...                        ...  ...   \n",
       "16479       Cookout Nutrition                       Sprite, Large        \n",
       "16480       Cookout Nutrition                     Sprite, Regular        \n",
       "16481       Cookout Nutrition                       Side of Chili        \n",
       "16482       Cookout Nutrition                    Walnut Milkshake        \n",
       "16483       Cookout Nutrition                    Reg BBQ Sandwich        \n",
       "\n",
       "       calories  \n",
       "0           NaN  \n",
       "1           NaN  \n",
       "2         360.0  \n",
       "3         330.0  \n",
       "4         370.0  \n",
       "...         ...  \n",
       "16479     220.0  \n",
       "16480     140.0  \n",
       "16481     160.0  \n",
       "16482     850.0  \n",
       "16483     370.0  \n",
       "\n",
       "[16484 rows x 5 columns]"
      ]
     },
     "execution_count": 55,
     "metadata": {},
     "output_type": "execute_result"
    }
   ],
   "source": [
    "nutrition"
   ]
  },
  {
   "cell_type": "code",
   "execution_count": null,
   "metadata": {},
   "outputs": [],
   "source": []
  }
 ],
 "metadata": {
  "kernelspec": {
   "display_name": "fastfood",
   "language": "python",
   "name": "fastfood"
  },
  "language_info": {
   "codemirror_mode": {
    "name": "ipython",
    "version": 3
   },
   "file_extension": ".py",
   "mimetype": "text/x-python",
   "name": "python",
   "nbconvert_exporter": "python",
   "pygments_lexer": "ipython3",
   "version": "3.8.3"
  }
 },
 "nbformat": 4,
 "nbformat_minor": 4
}
